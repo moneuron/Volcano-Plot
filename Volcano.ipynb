{
  "cells": [
    {
      "cell_type": "markdown",
      "metadata": {
        "id": "WpLXU-12kozg"
      },
      "source": [
        "# Volcano Plot for Gene Expression Analysis\n",
        "This code was created by [Mo Shakiba]()  \n",
        "GitHub: [moneuron](https://github.com/moneuron)\n",
        "\n",
        "### License:\n",
        "This code is licensed under the MIT License. Feel free to use and modify it, but please retain this acknowledgment."
      ]
    },
    {
      "cell_type": "code",
      "execution_count": 2,
      "metadata": {
        "id": "eNevTW-LfAJI"
      },
      "outputs": [],
      "source": [
        "#@title Install Dependencies {display-mode: \"form\"}\n",
        "!pip install matplotlib seaborn adjustText --quiet"
      ]
    },
    {
      "cell_type": "code",
      "execution_count": 3,
      "metadata": {
        "id": "kifbr2B5eBiI"
      },
      "outputs": [],
      "source": [
        "#@title Import Dependencies {display-mode: \"form\"}\n",
        "import pandas as pd\n",
        "import matplotlib.pyplot as plt\n",
        "import seaborn as sns\n",
        "import numpy as np\n",
        "from matplotlib.lines import Line2D\n",
        "from adjustText import adjust_text\n",
        "from google.colab import files"
      ]
    },
    {
      "cell_type": "code",
      "execution_count": null,
      "metadata": {
        "colab": {
          "base_uri": "https://localhost:8080/",
          "height": 74
        },
        "id": "rQt-p4hbfG2o",
        "outputId": "17a21cb8-605e-4b14-f2d3-737c35c7ecfd"
      },
      "outputs": [],
      "source": [
        "#@title Upload the GEO .tsv file {display-mode: \"form\"}\n",
        "uploaded = files.upload()"
      ]
    },
    {
      "cell_type": "code",
      "execution_count": 5,
      "metadata": {
        "id": "Bpdw1eQSfIe-"
      },
      "outputs": [],
      "source": [
        "#@title Load the data from the .tsv file {display-mode: \"form\"}\n",
        "file_path = list(uploaded.keys())[0]  # Get the file name from uploaded files\n",
        "data = pd.read_csv(file_path, sep='\\t')"
      ]
    },
    {
      "cell_type": "code",
      "execution_count": 6,
      "metadata": {
        "id": "4SSmV8JCgoJB"
      },
      "outputs": [],
      "source": [
        "#@title Define the threshold for significance and genes of interest {display-mode: \"form\"}\n",
        "\n",
        "# Input the significance thresholds\n",
        "pval_threshold = 0.05  #@param {type:\"number\"}\n",
        "logfc_threshold = 0  #@param {type:\"number\"}\n",
        "\n",
        "# Input the genes of interest as a comma-separated string\n",
        "genes_of_interest_input = \"MMP2, MMP7, MMP15, MMP14, MMP1, MMP12\"  #@param {type:\"string\"}\n",
        "\n",
        "# Convert the input string into a list\n",
        "genes_of_interest = [gene.strip() for gene in genes_of_interest_input.split(',')]"
      ]
    },
    {
      "cell_type": "code",
      "execution_count": 7,
      "metadata": {
        "id": "96hPZdTgh4Nx"
      },
      "outputs": [],
      "source": [
        "#@title Plotting settings {display-mode: \"form\"}\n",
        "\n",
        "# Input the plot size\n",
        "plot_width = 10  #@param {type:\"number\"}\n",
        "plot_height = 10  #@param {type:\"number\"}\n",
        "\n",
        "# Input colors for significant and non-significant genes\n",
        "upregulated_color = \"crimson\"  #@param {type:\"string\"}\n",
        "downregulated_color = \"navy\"  #@param {type:\"string\"}\n",
        "non_significant_color = \"gray\"  #@param {type:\"string\"}"
      ]
    },
    {
      "cell_type": "code",
      "execution_count": null,
      "metadata": {
        "colab": {
          "base_uri": "https://localhost:8080/",
          "height": 1000
        },
        "id": "_IfLruEng39U",
        "outputId": "7df67a84-5da4-4193-9ad4-fb24fed4e5a9"
      },
      "outputs": [],
      "source": [
        "#@title Plotting {display-mode: \"form\"}\n",
        "\n",
        "# Split the data into genes of interest and others\n",
        "genes_of_interest_data = data[data['Gene.symbol'].isin(genes_of_interest)]\n",
        "non_interest_data = data[~data['Gene.symbol'].isin(genes_of_interest)]\n",
        "\n",
        "# Aggregate only for genes of interest: mean logFC and min p-value\n",
        "agg_interest_data = genes_of_interest_data.groupby('Gene.symbol').agg({\n",
        "    'logFC': 'mean',  # Average logFC\n",
        "    'P.Value': 'min'  # Minimum p-value\n",
        "}).reset_index()\n",
        "\n",
        "# Create the log10 transformation of the p-values for aggregated genes of interest\n",
        "agg_interest_data['-log10(P.Value)'] = -np.log10(agg_interest_data['P.Value'])\n",
        "\n",
        "# Create the log10 transformation of the p-values for non-interest genes (no aggregation)\n",
        "non_interest_data = non_interest_data[non_interest_data['P.Value'] > 0]  # Filter out non-positive p-values\n",
        "non_interest_data.loc[:, '-log10(P.Value)'] = -np.log10(non_interest_data['P.Value'])\n",
        "\n",
        "# Combine the aggregated and non-interest data\n",
        "data = pd.concat([agg_interest_data, non_interest_data], ignore_index=True)\n",
        "\n",
        "\n",
        "# Classify genes based on logFC and p-value\n",
        "def classify_gene(row):\n",
        "    if row['P.Value'] < pval_threshold and row['logFC'] > logfc_threshold:\n",
        "        return 'Upregulated'\n",
        "    elif row['P.Value'] < pval_threshold and row['logFC'] < -logfc_threshold:\n",
        "        return 'Downregulated'\n",
        "    else:\n",
        "        return 'Non-significant'\n",
        "\n",
        "# Apply classification\n",
        "data['regulation'] = data.apply(classify_gene, axis=1)\n",
        "\n",
        "\n",
        "# Create the volcano plot with paper-friendly coloring\n",
        "plt.figure(figsize=(12, 10))  # Increased figure size for better label placement\n",
        "\n",
        "# Custom paper-friendly color palette\n",
        "palette = {'Upregulated': upregulated_color, 'Downregulated': downregulated_color, 'Non-significant': non_significant_color}\n",
        "\n",
        "# Plot the points\n",
        "sns.scatterplot(x='logFC', y='-log10(P.Value)', data=data, hue='regulation',\n",
        "                palette=palette, alpha=0.5, s=80, edgecolor=None)\n",
        "\n",
        "# Prepare text annotations for genes of interest and plot larger dots\n",
        "texts = []\n",
        "for i, row in data.iterrows():\n",
        "    if row['Gene.symbol'] in genes_of_interest:\n",
        "        # Plot a larger, more visible dot for genes of interest\n",
        "        plt.scatter(row['logFC'], row['-log10(P.Value)'], s=100, color='white', zorder=5, edgecolor='black')\n",
        "\n",
        "        texts.append(plt.text(row['logFC'], row['-log10(P.Value)'], row['Gene.symbol'],\n",
        "                              fontsize=10, color='black', ha='center', va='center',\n",
        "                              bbox=dict(boxstyle='round,pad=0.3', edgecolor='black', facecolor='lightyellow', alpha=0.8)))\n",
        "\n",
        "# Adjust text positions to avoid overlaps\n",
        "adjust_text(texts,\n",
        "            force_points=(0.1, 0.25),  # Adjust force between points and texts\n",
        "            force_text=(0.5, 1),  # Adjust force between texts\n",
        "            expand_points=(2, 2),  # Expand the area around points\n",
        "            expand_text=(2, 2),  # Expand the area around texts\n",
        "            autoalign='xy',  # Use both x and y axes for alignment\n",
        "            only_move={'points':'xy', 'texts':'xy'},  # Allow movement in both x and y directions\n",
        "            )\n",
        "\n",
        "# Plot the significance thresholds\n",
        "plt.axhline(-np.log10(pval_threshold), linestyle='--', color='black', label=f'p-value = {pval_threshold}')\n",
        "plt.axvline(-logfc_threshold, linestyle='--', color='black', label=f'logFC = {-logfc_threshold}')\n",
        "plt.axvline(logfc_threshold, linestyle='--', color='black', label=f'logFC = {logfc_threshold}')\n",
        "\n",
        "# Customize axis labels and title\n",
        "plt.xlabel('Log2 Fold Change', fontsize=14)\n",
        "plt.ylabel('-log10(P.Value)', fontsize=14)\n",
        "plt.title('Volcano Plot of Differential Gene Expression', fontsize=16)\n",
        "\n",
        "# Customize the legend\n",
        "custom_lines = [Line2D([0], [0], color=upregulated_color, lw=4, label='Upregulated'),\n",
        "                Line2D([0], [0], color=downregulated_color, lw=4, label='Downregulated'),\n",
        "                Line2D([0], [0], color=non_significant_color, lw=4, label='Non-significant')]\n",
        "plt.legend(handles=custom_lines, loc='upper right', title='Gene Regulation')\n",
        "\n",
        "# Improve plot aesthetics\n",
        "sns.despine(trim=True)\n",
        "plt.grid(False)  # Remove grid lines for a cleaner look\n",
        "plt.tight_layout()\n",
        "\n",
        "# Show the plot\n",
        "plt.show()"
      ]
    },
    {
      "cell_type": "code",
      "execution_count": null,
      "metadata": {
        "colab": {
          "base_uri": "https://localhost:8080/"
        },
        "id": "zt_tIRjFiXFc",
        "outputId": "941c9024-71cc-4de5-f381-437f4a0cbacc"
      },
      "outputs": [],
      "source": [
        "#@title Results {display-mode: \"form\"}\n",
        "\n",
        "upregulated_genes = data[(data['Gene.symbol'].isin(genes_of_interest)) & (data['regulation'] == 'Upregulated')]\n",
        "downregulated_genes = data[(data['Gene.symbol'].isin(genes_of_interest)) & (data['regulation'] == 'Downregulated')]\n",
        "non_significant_genes = data[(data['Gene.symbol'].isin(genes_of_interest)) & (data['regulation'] == 'Non-significant')]\n",
        "\n",
        "# Display results\n",
        "if not upregulated_genes.empty:\n",
        "  print(\"Upregulated Genes of Interest:\")\n",
        "  print(upregulated_genes['Gene.symbol'].tolist())\n",
        "if not downregulated_genes.empty:\n",
        "  print(\"\\nDownregulated Genes of Interest:\")\n",
        "  print(downregulated_genes['Gene.symbol'].tolist())\n",
        "if not non_significant_genes.empty:\n",
        "  print(\"\\nNon-significant Genes of Interest:\")\n",
        "  print(non_significant_genes['Gene.symbol'].tolist())"
      ]
    }
  ],
  "metadata": {
    "colab": {
      "provenance": []
    },
    "kernelspec": {
      "display_name": "Python 3",
      "name": "python3"
    },
    "language_info": {
      "name": "python"
    }
  },
  "nbformat": 4,
  "nbformat_minor": 0
}
