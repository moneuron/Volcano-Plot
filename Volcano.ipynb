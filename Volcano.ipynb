{
  "nbformat": 4,
  "nbformat_minor": 0,
  "metadata": {
    "colab": {
      "provenance": []
    },
    "kernelspec": {
      "name": "python3",
      "display_name": "Python 3"
    },
    "language_info": {
      "name": "python"
    }
  },
  "cells": [
    {
      "cell_type": "markdown",
      "source": [
        "[![Open in Colab](https://colab.research.google.com/assets/colab-badge.svg)](https://colab.research.google.com/drive/12v1M7eNUXDem2RFR0TIsBe-NBgKjlny4?usp=sharing)\n",
        "[![DOI](https://zenodo.org/badge/DOI/10.5281/zenodo.13923663.svg)](https://doi.org/10.5281/zenodo.13923663)\n",
        "\n",
        "# Volcano Plot for Gene Expression Analysis\n",
        "\n",
        "---\n",
        "\n",
        "**Citation Note:**\n",
        "\n",
        "Shakiba, M. (2024). moneuron/Volcano-Plot: Volcano-Plot. Zenodo.\n",
        "https://doi.org/10.5281/zenodo.13923663\n",
        "\n",
        "---"
      ],
      "metadata": {
        "id": "WpLXU-12kozg"
      }
    },
    {
      "cell_type": "code",
      "source": [
        "#@title Install Dependencies {display-mode: \"form\"}\n",
        "!pip install matplotlib seaborn adjustText --quiet"
      ],
      "metadata": {
        "id": "eNevTW-LfAJI"
      },
      "execution_count": null,
      "outputs": []
    },
    {
      "cell_type": "code",
      "execution_count": null,
      "metadata": {
        "id": "kifbr2B5eBiI"
      },
      "outputs": [],
      "source": [
        "#@title Import Dependencies {display-mode: \"form\"}\n",
        "import pandas as pd\n",
        "import matplotlib.pyplot as plt\n",
        "import seaborn as sns\n",
        "import numpy as np\n",
        "from matplotlib.lines import Line2D\n",
        "from adjustText import adjust_text\n",
        "from google.colab import files"
      ]
    },
    {
      "cell_type": "code",
      "source": [
        "#@title Upload the GEO .tsv file {display-mode: \"form\"}\n",
        "uploaded = files.upload()"
      ],
      "metadata": {
        "id": "rQt-p4hbfG2o"
      },
      "execution_count": null,
      "outputs": []
    },
    {
      "cell_type": "code",
      "source": [
        "#@title Load the data from the .tsv file {display-mode: \"form\"}\n",
        "file_path = list(uploaded.keys())[0]  # Get the file name from uploaded files\n",
        "data = pd.read_csv(file_path, sep='\\t')"
      ],
      "metadata": {
        "id": "Bpdw1eQSfIe-"
      },
      "execution_count": null,
      "outputs": []
    },
    {
      "cell_type": "code",
      "source": [
        "#@title Define the threshold for significance and genes of interest {display-mode: \"form\"}\n",
        "\n",
        "# Input the significance thresholds\n",
        "pval_threshold = 0.05  #@param {type:\"number\"}\n",
        "logfc_threshold = 0.58  #@param {type:\"number\"}\n",
        "\n",
        "# Input the genes of interest as a comma-separated string\n",
        "genes_of_interest_input = \"MMP2, MMP7, MMP14\"  #@param {type:\"string\"}\n",
        "\n",
        "# Convert the input string into a list\n",
        "genes_of_interest = [gene.strip() for gene in genes_of_interest_input.split(',')]"
      ],
      "metadata": {
        "id": "4SSmV8JCgoJB"
      },
      "execution_count": null,
      "outputs": []
    },
    {
      "cell_type": "code",
      "source": [
        "#@title Define column names {display-mode: \"form\"}\n",
        "\n",
        "# Input column names\n",
        "pvalue = \"P.Value\"  #@param {type:\"string\"}\n",
        "logfc = \"logFC\"  #@param {type:\"string\"}\n",
        "symbol = \"Gene.symbol\"  #@param {type:\"string\"}"
      ],
      "metadata": {
        "id": "m1s2ZVjdIVmf"
      },
      "execution_count": null,
      "outputs": []
    },
    {
      "cell_type": "code",
      "source": [
        "#@title Results {display-mode: \"form\"}\n",
        "\n",
        "# Create the log10 transformation of the p-values\n",
        "data['-log10(P.Value)'] = -np.log10(data[pvalue])\n",
        "data = data.sort_values(by=pvalue).drop_duplicates(subset=symbol, keep='first')\n",
        "\n",
        "# Classify genes based on logFC and p-value\n",
        "def classify_gene(row):\n",
        "    if row[pvalue] < pval_threshold and row[logfc] > logfc_threshold:\n",
        "        return 'Upregulated'\n",
        "    elif row[pvalue] < pval_threshold and row[logfc] < -logfc_threshold:\n",
        "        return 'Downregulated'\n",
        "    else:\n",
        "        return 'Non-significant'\n",
        "\n",
        "# Apply classification\n",
        "data['regulation'] = data.apply(classify_gene, axis=1)\n",
        "\n",
        "upregulated_genes = data[(data[symbol].isin(genes_of_interest)) & (data['regulation'] == 'Upregulated')]\n",
        "downregulated_genes = data[(data[symbol].isin(genes_of_interest)) & (data['regulation'] == 'Downregulated')]\n",
        "non_significant_genes = data[(data[symbol].isin(genes_of_interest)) & (data['regulation'] == 'Non-significant')]\n",
        "\n",
        "# Display results\n",
        "if not upregulated_genes.empty:\n",
        "  print(\"Upregulated Genes of Interest:\")\n",
        "  print(upregulated_genes[symbol].tolist())\n",
        "if not downregulated_genes.empty:\n",
        "  print(\"\\nDownregulated Genes of Interest:\")\n",
        "  print(downregulated_genes[symbol].tolist())\n",
        "if not non_significant_genes.empty:\n",
        "  print(\"\\nNon-significant Genes of Interest:\")\n",
        "  print(non_significant_genes[symbol].tolist())"
      ],
      "metadata": {
        "id": "zt_tIRjFiXFc"
      },
      "execution_count": null,
      "outputs": []
    },
    {
      "cell_type": "code",
      "source": [
        "#@title Plotting settings {display-mode: \"form\"}\n",
        "\n",
        "# Input the plot size\n",
        "plot_width = 12  #@param {type:\"number\"}\n",
        "plot_height = 10  #@param {type:\"number\"}\n",
        "\n",
        "# Input colors for significant and non-significant genes\n",
        "upregulated_color = \"crimson\"  #@param {type:\"string\"}\n",
        "downregulated_color = \"navy\"  #@param {type:\"string\"}\n",
        "non_significant_color = \"gray\"  #@param {type:\"string\"}"
      ],
      "metadata": {
        "id": "96hPZdTgh4Nx"
      },
      "execution_count": null,
      "outputs": []
    },
    {
      "cell_type": "markdown",
      "source": [
        "> Available colors › [Seaborn Palette](https://miro.medium.com/v2/resize:fit:1400/format:webp/1*zm6zVTIEvf9uZ0cE4n0Ogg.png)"
      ],
      "metadata": {
        "id": "4L1_ec83KcOl"
      }
    },
    {
      "cell_type": "code",
      "source": [
        "#@title Plotting {display-mode: \"form\"}\n",
        "\n",
        "# Create the volcano plot with paper-friendly coloring\n",
        "plt.figure(figsize=(plot_width, plot_height))  # Increased figure size for better label placement\n",
        "\n",
        "# Custom paper-friendly color palette\n",
        "palette = {'Upregulated': upregulated_color, 'Downregulated': downregulated_color, 'Non-significant': non_significant_color}\n",
        "\n",
        "# Plot the points\n",
        "sns.scatterplot(x=logfc, y='-log10(P.Value)', data=data, hue='regulation',\n",
        "                palette=palette, alpha=0.5, s=80, edgecolor=None)\n",
        "\n",
        "# Prepare text annotations for genes of interest and plot larger dots\n",
        "texts = []\n",
        "for i, row in data.iterrows():\n",
        "    if row[symbol] in genes_of_interest:\n",
        "        # Plot a larger, more visible dot for genes of interest\n",
        "        plt.scatter(row[logfc], row['-log10(P.Value)'], s=100, color='white', zorder=5, edgecolor='black')\n",
        "\n",
        "        texts.append(plt.text(row[logfc], row['-log10(P.Value)'], row[symbol],\n",
        "                              fontsize=10, color='black', ha='center', va='center',\n",
        "                              bbox=dict(boxstyle='round,pad=0.3', edgecolor='black', facecolor='lightyellow', alpha=0.8)))\n",
        "\n",
        "# Adjust text positions to avoid overlaps\n",
        "adjust_text(texts,\n",
        "            force_points=(0.1, 0.25),  # Adjust force between points and texts\n",
        "            force_text=(0.5, 1),  # Adjust force between texts\n",
        "            expand_points=(2, 2),  # Expand the area around points\n",
        "            expand_text=(2, 2),  # Expand the area around texts\n",
        "            autoalign='xy',  # Use both x and y axes for alignment\n",
        "            only_move={'points':'xy', 'texts':'xy'},  # Allow movement in both x and y directions\n",
        "            )\n",
        "\n",
        "# Plot the significance thresholds\n",
        "plt.axhline(-np.log10(pval_threshold), linestyle='--', color='black', label=f'p-value = {pval_threshold}')\n",
        "plt.axvline(-logfc_threshold, linestyle='--', color='black', label=f'logFC = {-logfc_threshold}')\n",
        "plt.axvline(logfc_threshold, linestyle='--', color='black', label=f'logFC = {logfc_threshold}')\n",
        "\n",
        "# Customize axis labels and title\n",
        "plt.xlabel('Log2 Fold Change', fontsize=14)\n",
        "plt.ylabel('-log10(P.Value)', fontsize=14)\n",
        "plt.title('Volcano Plot of Differential Gene Expression', fontsize=16)\n",
        "\n",
        "# Customize the legend\n",
        "custom_lines = [Line2D([0], [0], color=upregulated_color, lw=4, label='Upregulated'),\n",
        "                Line2D([0], [0], color=downregulated_color, lw=4, label='Downregulated'),\n",
        "                Line2D([0], [0], color=non_significant_color, lw=4, label='Non-significant')]\n",
        "plt.legend(handles=custom_lines, loc='upper right', title='Gene Regulation')\n",
        "\n",
        "# Improve plot aesthetics\n",
        "sns.despine(trim=True)\n",
        "plt.grid(False)  # Remove grid lines for a cleaner look\n",
        "plt.tight_layout()\n",
        "\n",
        "# Show the plot\n",
        "plt.show()"
      ],
      "metadata": {
        "id": "_IfLruEng39U"
      },
      "execution_count": null,
      "outputs": []
    }
  ]
}